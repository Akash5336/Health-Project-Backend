{
 "cells": [
  {
   "cell_type": "code",
   "execution_count": 2,
   "metadata": {},
   "outputs": [],
   "source": [
    "import pandas as pd"
   ]
  },
  {
   "cell_type": "code",
   "execution_count": 3,
   "metadata": {},
   "outputs": [
    {
     "data": {
      "text/html": [
       "<div>\n",
       "<style scoped>\n",
       "    .dataframe tbody tr th:only-of-type {\n",
       "        vertical-align: middle;\n",
       "    }\n",
       "\n",
       "    .dataframe tbody tr th {\n",
       "        vertical-align: top;\n",
       "    }\n",
       "\n",
       "    .dataframe thead th {\n",
       "        text-align: right;\n",
       "    }\n",
       "</style>\n",
       "<table border=\"1\" class=\"dataframe\">\n",
       "  <thead>\n",
       "    <tr style=\"text-align: right;\">\n",
       "      <th></th>\n",
       "      <th>sym</th>\n",
       "      <th>symptom</th>\n",
       "      <th>dis</th>\n",
       "      <th>disease</th>\n",
       "      <th>dg</th>\n",
       "      <th>v-shaped</th>\n",
       "    </tr>\n",
       "  </thead>\n",
       "  <tbody>\n",
       "    <tr>\n",
       "      <th>0</th>\n",
       "      <td>1043</td>\n",
       "      <td>Holoprosencephaly</td>\n",
       "      <td>1</td>\n",
       "      <td>Del (2) (p22-p21)</td>\n",
       "      <td>0</td>\n",
       "      <td>-5000015</td>\n",
       "    </tr>\n",
       "    <tr>\n",
       "      <th>1</th>\n",
       "      <td>21</td>\n",
       "      <td>Cleft palate</td>\n",
       "      <td>1</td>\n",
       "      <td>Del (2) (p22-p21)</td>\n",
       "      <td>0</td>\n",
       "      <td>-5000015</td>\n",
       "    </tr>\n",
       "    <tr>\n",
       "      <th>2</th>\n",
       "      <td>2960</td>\n",
       "      <td>Failed corpus callosum development</td>\n",
       "      <td>1</td>\n",
       "      <td>Del (2) (p22-p21)</td>\n",
       "      <td>0</td>\n",
       "      <td>-5000015</td>\n",
       "    </tr>\n",
       "    <tr>\n",
       "      <th>3</th>\n",
       "      <td>77</td>\n",
       "      <td>Cleft lips</td>\n",
       "      <td>1</td>\n",
       "      <td>Del (2) (p22-p21)</td>\n",
       "      <td>0</td>\n",
       "      <td>-5000015</td>\n",
       "    </tr>\n",
       "    <tr>\n",
       "      <th>4</th>\n",
       "      <td>906</td>\n",
       "      <td>Kidney anomalies</td>\n",
       "      <td>1</td>\n",
       "      <td>Del (2) (p22-p21)</td>\n",
       "      <td>0</td>\n",
       "      <td>-5000015</td>\n",
       "    </tr>\n",
       "    <tr>\n",
       "      <th>...</th>\n",
       "      <td>...</td>\n",
       "      <td>...</td>\n",
       "      <td>...</td>\n",
       "      <td>...</td>\n",
       "      <td>...</td>\n",
       "      <td>...</td>\n",
       "    </tr>\n",
       "    <tr>\n",
       "      <th>200864</th>\n",
       "      <td>669</td>\n",
       "      <td>Increased sweating</td>\n",
       "      <td>20150</td>\n",
       "      <td>Hypersecretion of growth hormone</td>\n",
       "      <td>1</td>\n",
       "      <td>-44</td>\n",
       "    </tr>\n",
       "    <tr>\n",
       "      <th>200865</th>\n",
       "      <td>881</td>\n",
       "      <td>Menstrual irregularities</td>\n",
       "      <td>20150</td>\n",
       "      <td>Hypersecretion of growth hormone</td>\n",
       "      <td>1</td>\n",
       "      <td>-44</td>\n",
       "    </tr>\n",
       "    <tr>\n",
       "      <th>200866</th>\n",
       "      <td>886</td>\n",
       "      <td>Enlarged kidneys</td>\n",
       "      <td>20150</td>\n",
       "      <td>Hypersecretion of growth hormone</td>\n",
       "      <td>1</td>\n",
       "      <td>-44</td>\n",
       "    </tr>\n",
       "    <tr>\n",
       "      <th>200867</th>\n",
       "      <td>9098</td>\n",
       "      <td>Bone overgrowth</td>\n",
       "      <td>20150</td>\n",
       "      <td>Hypersecretion of growth hormone</td>\n",
       "      <td>1</td>\n",
       "      <td>-44</td>\n",
       "    </tr>\n",
       "    <tr>\n",
       "      <th>200868</th>\n",
       "      <td>9134</td>\n",
       "      <td>Enlarged lips</td>\n",
       "      <td>20150</td>\n",
       "      <td>Hypersecretion of growth hormone</td>\n",
       "      <td>1</td>\n",
       "      <td>-44</td>\n",
       "    </tr>\n",
       "  </tbody>\n",
       "</table>\n",
       "<p>200869 rows × 6 columns</p>\n",
       "</div>"
      ],
      "text/plain": [
       "         sym                             symptom    dis  \\\n",
       "0       1043                   Holoprosencephaly      1   \n",
       "1         21                        Cleft palate      1   \n",
       "2       2960  Failed corpus callosum development      1   \n",
       "3         77                          Cleft lips      1   \n",
       "4        906                    Kidney anomalies      1   \n",
       "...      ...                                 ...    ...   \n",
       "200864   669                  Increased sweating  20150   \n",
       "200865   881            Menstrual irregularities  20150   \n",
       "200866   886                    Enlarged kidneys  20150   \n",
       "200867  9098                     Bone overgrowth  20150   \n",
       "200868  9134                       Enlarged lips  20150   \n",
       "\n",
       "                                 disease  dg  v-shaped  \n",
       "0                      Del (2) (p22-p21)   0  -5000015  \n",
       "1                      Del (2) (p22-p21)   0  -5000015  \n",
       "2                      Del (2) (p22-p21)   0  -5000015  \n",
       "3                      Del (2) (p22-p21)   0  -5000015  \n",
       "4                      Del (2) (p22-p21)   0  -5000015  \n",
       "...                                  ...  ..       ...  \n",
       "200864  Hypersecretion of growth hormone   1       -44  \n",
       "200865  Hypersecretion of growth hormone   1       -44  \n",
       "200866  Hypersecretion of growth hormone   1       -44  \n",
       "200867  Hypersecretion of growth hormone   1       -44  \n",
       "200868  Hypersecretion of growth hormone   1       -44  \n",
       "\n",
       "[200869 rows x 6 columns]"
      ]
     },
     "execution_count": 3,
     "metadata": {},
     "output_type": "execute_result"
    }
   ],
   "source": [
    "df = pd.read_csv(\"syditriage.csv\")\n",
    "df"
   ]
  },
  {
   "cell_type": "code",
   "execution_count": 4,
   "metadata": {},
   "outputs": [
    {
     "data": {
      "text/html": [
       "<div>\n",
       "<style scoped>\n",
       "    .dataframe tbody tr th:only-of-type {\n",
       "        vertical-align: middle;\n",
       "    }\n",
       "\n",
       "    .dataframe tbody tr th {\n",
       "        vertical-align: top;\n",
       "    }\n",
       "\n",
       "    .dataframe thead th {\n",
       "        text-align: right;\n",
       "    }\n",
       "</style>\n",
       "<table border=\"1\" class=\"dataframe\">\n",
       "  <thead>\n",
       "    <tr style=\"text-align: right;\">\n",
       "      <th></th>\n",
       "      <th>sym</th>\n",
       "      <th>dis</th>\n",
       "      <th>dg</th>\n",
       "      <th>v-shaped</th>\n",
       "    </tr>\n",
       "  </thead>\n",
       "  <tbody>\n",
       "    <tr>\n",
       "      <th>count</th>\n",
       "      <td>200869.000000</td>\n",
       "      <td>200869.000000</td>\n",
       "      <td>200869.000000</td>\n",
       "      <td>2.008690e+05</td>\n",
       "    </tr>\n",
       "    <tr>\n",
       "      <th>mean</th>\n",
       "      <td>4932.115588</td>\n",
       "      <td>13178.441666</td>\n",
       "      <td>0.859605</td>\n",
       "      <td>-3.494851e+05</td>\n",
       "    </tr>\n",
       "    <tr>\n",
       "      <th>std</th>\n",
       "      <td>9100.325529</td>\n",
       "      <td>5425.888013</td>\n",
       "      <td>0.347397</td>\n",
       "      <td>9.247968e+05</td>\n",
       "    </tr>\n",
       "    <tr>\n",
       "      <th>min</th>\n",
       "      <td>1.000000</td>\n",
       "      <td>1.000000</td>\n",
       "      <td>0.000000</td>\n",
       "      <td>-1.299994e+07</td>\n",
       "    </tr>\n",
       "    <tr>\n",
       "      <th>25%</th>\n",
       "      <td>101.000000</td>\n",
       "      <td>9703.000000</td>\n",
       "      <td>1.000000</td>\n",
       "      <td>-4.800000e+01</td>\n",
       "    </tr>\n",
       "    <tr>\n",
       "      <th>50%</th>\n",
       "      <td>721.000000</td>\n",
       "      <td>14679.000000</td>\n",
       "      <td>1.000000</td>\n",
       "      <td>-9.000000e+00</td>\n",
       "    </tr>\n",
       "    <tr>\n",
       "      <th>75%</th>\n",
       "      <td>4389.000000</td>\n",
       "      <td>17428.000000</td>\n",
       "      <td>1.000000</td>\n",
       "      <td>2.700000e+01</td>\n",
       "    </tr>\n",
       "    <tr>\n",
       "      <th>max</th>\n",
       "      <td>40280.000000</td>\n",
       "      <td>20150.000000</td>\n",
       "      <td>1.000000</td>\n",
       "      <td>4.833100e+04</td>\n",
       "    </tr>\n",
       "  </tbody>\n",
       "</table>\n",
       "</div>"
      ],
      "text/plain": [
       "                 sym            dis             dg      v-shaped\n",
       "count  200869.000000  200869.000000  200869.000000  2.008690e+05\n",
       "mean     4932.115588   13178.441666       0.859605 -3.494851e+05\n",
       "std      9100.325529    5425.888013       0.347397  9.247968e+05\n",
       "min         1.000000       1.000000       0.000000 -1.299994e+07\n",
       "25%       101.000000    9703.000000       1.000000 -4.800000e+01\n",
       "50%       721.000000   14679.000000       1.000000 -9.000000e+00\n",
       "75%      4389.000000   17428.000000       1.000000  2.700000e+01\n",
       "max     40280.000000   20150.000000       1.000000  4.833100e+04"
      ]
     },
     "execution_count": 4,
     "metadata": {},
     "output_type": "execute_result"
    }
   ],
   "source": [
    "df.describe()"
   ]
  },
  {
   "cell_type": "code",
   "execution_count": 5,
   "metadata": {},
   "outputs": [
    {
     "data": {
      "text/plain": [
       "18944"
      ]
     },
     "execution_count": 5,
     "metadata": {},
     "output_type": "execute_result"
    }
   ],
   "source": [
    "len(df['disease'].unique())"
   ]
  },
  {
   "cell_type": "code",
   "execution_count": 6,
   "metadata": {},
   "outputs": [
    {
     "data": {
      "text/plain": [
       "0"
      ]
     },
     "execution_count": 6,
     "metadata": {},
     "output_type": "execute_result"
    }
   ],
   "source": [
    "df['disease'].isnull().sum()"
   ]
  },
  {
   "cell_type": "code",
   "execution_count": 1,
   "metadata": {},
   "outputs": [
    {
     "ename": "NameError",
     "evalue": "name 'df' is not defined",
     "output_type": "error",
     "traceback": [
      "\u001b[0;31m---------------------------------------------------------------------------\u001b[0m",
      "\u001b[0;31mNameError\u001b[0m                                 Traceback (most recent call last)",
      "\u001b[0;32m/tmp/ipykernel_6217/29926843.py\u001b[0m in \u001b[0;36m<module>\u001b[0;34m\u001b[0m\n\u001b[0;32m----> 1\u001b[0;31m \u001b[0mdf\u001b[0m\u001b[0;34m[\u001b[0m\u001b[0;34m'disease'\u001b[0m\u001b[0;34m]\u001b[0m\u001b[0;34m.\u001b[0m\u001b[0munique\u001b[0m\u001b[0;34m(\u001b[0m\u001b[0;34m)\u001b[0m\u001b[0;34m\u001b[0m\u001b[0;34m\u001b[0m\u001b[0m\n\u001b[0m",
      "\u001b[0;31mNameError\u001b[0m: name 'df' is not defined"
     ]
    }
   ],
   "source": [
    "df['disease'].unique()"
   ]
  },
  {
   "cell_type": "code",
   "execution_count": null,
   "metadata": {},
   "outputs": [],
   "source": []
  }
 ],
 "metadata": {
  "kernelspec": {
   "display_name": "Python 3.10.7 64-bit",
   "language": "python",
   "name": "python3"
  },
  "language_info": {
   "codemirror_mode": {
    "name": "ipython",
    "version": 3
   },
   "file_extension": ".py",
   "mimetype": "text/x-python",
   "name": "python",
   "nbconvert_exporter": "python",
   "pygments_lexer": "ipython3",
   "version": "3.10.7"
  },
  "orig_nbformat": 4,
  "vscode": {
   "interpreter": {
    "hash": "e7370f93d1d0cde622a1f8e1c04877d8463912d04d973331ad4851f04de6915a"
   }
  }
 },
 "nbformat": 4,
 "nbformat_minor": 2
}
